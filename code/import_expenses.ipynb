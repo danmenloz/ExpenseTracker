{
 "cells": [
  {
   "cell_type": "code",
   "execution_count": 20,
   "id": "2d95821d",
   "metadata": {},
   "outputs": [],
   "source": [
    "import os\n",
    "import pandas as pd\n",
    "from os.path import isfile, join\n",
    "from os import listdir\n",
    "import glob\n",
    "\n"
   ]
  },
  {
   "cell_type": "code",
   "execution_count": 28,
   "id": "be6b5fa5",
   "metadata": {},
   "outputs": [
    {
     "name": "stdout",
     "output_type": "stream",
     "text": [
      "['../import/transactions/Discover-AllAvailable-20250418.csv', '../import/transactions/HSABank_20250418.csv', '../import/transactions/WellsFargo7765_20250418.csv', '../import/transactions/OptumBank_20250418.csv', '../import/transactions/WellsFargo8414_20250418.csv', '../import/transactions/Chase8529_Activity20230418_20250418_20250418.CSV', '../import/transactions/Chase6811_Activity_20250418.CSV']\n"
     ]
    }
   ],
   "source": [
    "# List all files in the transactions folder\n",
    "transactions_path  = \"../import/transactions/\"\n",
    "# transactions_files = [os.path.join(dirpath,f) for (dirpath, dirnames, filenames) in os.walk(transactions_path) for f in filenames] \n",
    "# onlyfiles = [f for f in listdir(transactions_path) if isfile(join(transactions_path, f))]\n",
    "# print(onlyfiles)\n",
    "\n",
    "transactions_files = [glob.glob(transactions_path + type) for type in [\"*.csv\", \"*.CSV\"]]\n",
    "transactions_files = [j for i in transactions_files for j in i]\n",
    "\n",
    "print(transactions_files)\n"
   ]
  },
  {
   "cell_type": "code",
   "execution_count": null,
   "id": "ce7771a9",
   "metadata": {},
   "outputs": [],
   "source": [
    "# Read the CSV file into a DataFrame\n",
    "df = pd.read_csv('file_path.csv')\n",
    "\n",
    "# Display the first few rows of the DataFrame\n",
    "print(df.head())"
   ]
  }
 ],
 "metadata": {
  "kernelspec": {
   "display_name": "exp_tracker",
   "language": "python",
   "name": "python3"
  },
  "language_info": {
   "codemirror_mode": {
    "name": "ipython",
    "version": 3
   },
   "file_extension": ".py",
   "mimetype": "text/x-python",
   "name": "python",
   "nbconvert_exporter": "python",
   "pygments_lexer": "ipython3",
   "version": "3.12.9"
  }
 },
 "nbformat": 4,
 "nbformat_minor": 5
}
